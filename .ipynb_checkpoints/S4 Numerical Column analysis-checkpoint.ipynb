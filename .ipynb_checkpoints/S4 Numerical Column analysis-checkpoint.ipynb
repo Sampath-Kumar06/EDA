{
 "cells": [
  {
   "cell_type": "code",
   "execution_count": 3,
   "id": "c3f3315f-030b-4786-a3a4-1abdf038d76e",
   "metadata": {},
   "outputs": [],
   "source": [
    "# import packages\n",
    "import pandas as pd\n",
    "import numpy as np\n",
    "import matplotlib.pyplot as plt\n",
    "import seaborn as sns"
   ]
  },
  {
   "cell_type": "code",
   "execution_count": 4,
   "id": "18814c79-8bed-4218-9e4c-fb27f5a70ecc",
   "metadata": {},
   "outputs": [],
   "source": [
    "visa_df=pd.read_csv(r\"E:\\Data Science Course\\Data files\\Visadataset.csv\")\n",
    "cat_col=visa_df.select_dtypes(include='object').columns\n",
    "num_col=visa_df.select_dtypes(exclude='object').columns"
   ]
  },
  {
   "cell_type": "code",
   "execution_count": 10,
   "id": "bf78f134-e119-493f-a422-05dd5c4f5367",
   "metadata": {},
   "outputs": [
    {
     "data": {
      "text/plain": [
       "Index(['case_id', 'continent', 'education_of_employee', 'has_job_experience',\n",
       "       'requires_job_training', 'region_of_employment', 'unit_of_wage',\n",
       "       'full_time_position', 'case_status'],\n",
       "      dtype='object')"
      ]
     },
     "execution_count": 10,
     "metadata": {},
     "output_type": "execute_result"
    }
   ],
   "source": [
    "cat_col"
   ]
  },
  {
   "cell_type": "code",
   "execution_count": 12,
   "id": "37d9feff-c289-482e-8fea-8c1967bb2455",
   "metadata": {},
   "outputs": [
    {
     "data": {
      "text/plain": [
       "Index(['no_of_employees', 'yr_of_estab', 'prevailing_wage'], dtype='object')"
      ]
     },
     "execution_count": 12,
     "metadata": {},
     "output_type": "execute_result"
    }
   ],
   "source": [
    "num_col"
   ]
  },
  {
   "cell_type": "code",
   "execution_count": 37,
   "id": "cdc730bd-1c4f-4739-b3df-7a12fde2069e",
   "metadata": {},
   "outputs": [],
   "source": [
    "# - len\n",
    "\n",
    "# - min\n",
    "\n",
    "# - mean\n",
    "\n",
    "# - median\n",
    "\n",
    "# - max\n",
    "\n",
    "# - 25p\n",
    "\n",
    "# - 50p\n",
    "\n",
    "# - 75p"
   ]
  },
  {
   "cell_type": "code",
   "execution_count": 34,
   "id": "0056020e-4dd9-4196-aad8-36ae6e1b8547",
   "metadata": {},
   "outputs": [
    {
     "name": "stdout",
     "output_type": "stream",
     "text": [
      "0           592.2029\n",
      "1         83425.6500\n",
      "2        122996.8600\n",
      "3         83434.0300\n",
      "4        149907.3900\n",
      "            ...     \n",
      "25475     77092.5700\n",
      "25476    279174.7900\n",
      "25477    146298.8500\n",
      "25478     86154.7700\n",
      "25479     70876.9100\n",
      "Name: prevailing_wage, Length: 25480, dtype: float64\n"
     ]
    }
   ],
   "source": [
    "wage_data=visa_df['prevailing_wage'] # reading the column\n",
    "print(wage_data)"
   ]
  },
  {
   "cell_type": "code",
   "execution_count": 18,
   "id": "bfcd34ca-8365-4f3a-8b58-a502cff61181",
   "metadata": {},
   "outputs": [
    {
     "data": {
      "text/plain": [
       "25480"
      ]
     },
     "execution_count": 18,
     "metadata": {},
     "output_type": "execute_result"
    }
   ],
   "source": [
    "len(wage_data)"
   ]
  },
  {
   "cell_type": "code",
   "execution_count": 20,
   "id": "a0723e20-42bc-47c9-b3a7-badc01457bf1",
   "metadata": {},
   "outputs": [
    {
     "data": {
      "text/plain": [
       "2.1367"
      ]
     },
     "execution_count": 20,
     "metadata": {},
     "output_type": "execute_result"
    }
   ],
   "source": [
    "np.min(wage_data)"
   ]
  },
  {
   "cell_type": "code",
   "execution_count": 22,
   "id": "a5a8d4a8-4bb2-4361-a55a-986483c698a7",
   "metadata": {},
   "outputs": [
    {
     "data": {
      "text/plain": [
       "74455.81459209183"
      ]
     },
     "execution_count": 22,
     "metadata": {},
     "output_type": "execute_result"
    }
   ],
   "source": [
    "np.mean(wage_data)"
   ]
  },
  {
   "cell_type": "code",
   "execution_count": 24,
   "id": "9857b533-1ca0-4c1f-ab93-95b2e0f9e3d8",
   "metadata": {},
   "outputs": [
    {
     "data": {
      "text/plain": [
       "70308.20999999999"
      ]
     },
     "execution_count": 24,
     "metadata": {},
     "output_type": "execute_result"
    }
   ],
   "source": [
    "np.median(wage_data)"
   ]
  },
  {
   "cell_type": "code",
   "execution_count": 26,
   "id": "75cf68ec-a084-427c-bbdc-fb05563bbe46",
   "metadata": {},
   "outputs": [
    {
     "data": {
      "text/plain": [
       "319210.27"
      ]
     },
     "execution_count": 26,
     "metadata": {},
     "output_type": "execute_result"
    }
   ],
   "source": [
    "np.max(wage_data)"
   ]
  },
  {
   "cell_type": "code",
   "execution_count": 28,
   "id": "996d3270-a399-4dfd-8ade-e13eb13a91e8",
   "metadata": {},
   "outputs": [
    {
     "data": {
      "text/plain": [
       "34015.479999999996"
      ]
     },
     "execution_count": 28,
     "metadata": {},
     "output_type": "execute_result"
    }
   ],
   "source": [
    "np.percentile(wage_data,25)"
   ]
  },
  {
   "cell_type": "code",
   "execution_count": 30,
   "id": "f93e84e4-dd7c-44b0-aa8a-450e8f07212b",
   "metadata": {},
   "outputs": [
    {
     "data": {
      "text/plain": [
       "70308.20999999999"
      ]
     },
     "execution_count": 30,
     "metadata": {},
     "output_type": "execute_result"
    }
   ],
   "source": [
    "np.percentile(wage_data,50)"
   ]
  },
  {
   "cell_type": "code",
   "execution_count": 39,
   "id": "0eb85048-ff5f-4ae1-9749-213e30ff5f61",
   "metadata": {},
   "outputs": [
    {
     "data": {
      "text/plain": [
       "107735.51"
      ]
     },
     "execution_count": 39,
     "metadata": {},
     "output_type": "execute_result"
    }
   ],
   "source": [
    "round(np.percentile(wage_data,75),2)"
   ]
  },
  {
   "cell_type": "code",
   "execution_count": 43,
   "id": "1a2d021c-4405-445f-bbc4-dd535c71c0e0",
   "metadata": {},
   "outputs": [],
   "source": [
    "wage_count=len(wage_data)\n",
    "wage_min=round(np.min(wage_data),2)\n",
    "wage_max=round(np.max(wage_data),2)\n",
    "wage_mean=round(np.mean(wage_data),2)\n",
    "wage_median=round(np.median(wage_data),2)\n",
    "\n",
    "###################################################\n",
    "wage_25p=round(np.percentile(wage_data,25),2)\n",
    "wage_50p=round(np.percentile(wage_data,50),2)\n",
    "wage_75p=round(np.percentile(wage_data,75),2)\n",
    "\n",
    "##################################################\n",
    "wage_25q=round(np.quantile(wage_data,0.25),2)\n",
    "wage_50q=round(np.quantile(wage_data,0.50),2)\n",
    "wage_75q=round(np.quantile(wage_data,0.75),2)\n",
    "###################################################\n",
    "\n",
    "\n",
    "# USING PANDAS\n",
    "wage_min_pd=round(wage_data.min(),2)\n",
    "wage_max_pd=round(wage_data.max(),2)\n",
    "wage_mean_pd=round(wage_data.mean(),2)\n",
    "wage_medain_pd=round(wage_data.median(),2)"
   ]
  },
  {
   "cell_type": "code",
   "execution_count": 45,
   "id": "a4604534-cd88-41c3-af85-648da0014db2",
   "metadata": {},
   "outputs": [
    {
     "name": "stdout",
     "output_type": "stream",
     "text": [
      "The number of observations are: 25480\n",
      "The min value of wage is: 2.14\n",
      "The min value of wage is using pandas: 2.14\n",
      "The 25p value of wage is: 34015.48\n",
      "The 25q value of wage is: 34015.48\n",
      "The mean value of wage is: 74455.81\n",
      "The mean value of wage is using pandas: 74455.81\n",
      "The 50p value of wage is: 70308.21\n",
      "The 50q value of wage is: 70308.21\n",
      "The median value of wage is: 70308.21\n",
      "The median value of wage is using pandas: 70308.21\n",
      "The 75p value of wage is: 107735.51\n",
      "The 75q value of wage is: 107735.51\n",
      "The max value of wage is: 319210.27\n",
      "The max value of wage is using pandas: 319210.27\n"
     ]
    }
   ],
   "source": [
    "print('The number of observations are:',wage_count)\n",
    "################################################################\n",
    "print('The min value of wage is:',wage_min)\n",
    "print('The min value of wage is using pandas:',wage_min_pd)\n",
    "#############################################################\n",
    "print('The 25p value of wage is:',wage_25p)\n",
    "print('The 25q value of wage is:',wage_25q)\n",
    "#############################################################\n",
    "print('The mean value of wage is:',wage_mean)\n",
    "print('The mean value of wage is using pandas:',wage_mean_pd)\n",
    "##################################################################\n",
    "print('The 50p value of wage is:',wage_50p)\n",
    "print('The 50q value of wage is:',wage_50q)\n",
    "#####################################################################\n",
    "print('The median value of wage is:',wage_median)\n",
    "print('The median value of wage is using pandas:',wage_medain_pd)\n",
    "#########################################################################\n",
    "print('The 75p value of wage is:',wage_75p)\n",
    "print('The 75q value of wage is:',wage_75q)\n",
    "###############################################################################\n",
    "print('The max value of wage is:',wage_max)\n",
    "print('The max value of wage is using pandas:',wage_max_pd)"
   ]
  },
  {
   "cell_type": "code",
   "execution_count": 47,
   "id": "13745e52-bfef-4969-b1e1-108f59faeb31",
   "metadata": {},
   "outputs": [
    {
     "data": {
      "text/plain": [
       "Index(['no_of_employees', 'yr_of_estab', 'prevailing_wage'], dtype='object')"
      ]
     },
     "execution_count": 47,
     "metadata": {},
     "output_type": "execute_result"
    }
   ],
   "source": [
    "num_col"
   ]
  },
  {
   "cell_type": "code",
   "execution_count": 73,
   "id": "7f57f0f9-7cb4-44f0-8695-358e8c39d2ea",
   "metadata": {},
   "outputs": [
    {
     "data": {
      "text/html": [
       "<div>\n",
       "<style scoped>\n",
       "    .dataframe tbody tr th:only-of-type {\n",
       "        vertical-align: middle;\n",
       "    }\n",
       "\n",
       "    .dataframe tbody tr th {\n",
       "        vertical-align: top;\n",
       "    }\n",
       "\n",
       "    .dataframe thead th {\n",
       "        text-align: right;\n",
       "    }\n",
       "</style>\n",
       "<table border=\"1\" class=\"dataframe\">\n",
       "  <thead>\n",
       "    <tr style=\"text-align: right;\">\n",
       "      <th></th>\n",
       "      <th>Prevailing Wage</th>\n",
       "    </tr>\n",
       "  </thead>\n",
       "  <tbody>\n",
       "    <tr>\n",
       "      <th>Count</th>\n",
       "      <td>25480.00</td>\n",
       "    </tr>\n",
       "    <tr>\n",
       "      <th>Min</th>\n",
       "      <td>2.14</td>\n",
       "    </tr>\n",
       "    <tr>\n",
       "      <th>Max</th>\n",
       "      <td>319210.27</td>\n",
       "    </tr>\n",
       "    <tr>\n",
       "      <th>Mean</th>\n",
       "      <td>74455.81</td>\n",
       "    </tr>\n",
       "    <tr>\n",
       "      <th>Median</th>\n",
       "      <td>70308.21</td>\n",
       "    </tr>\n",
       "    <tr>\n",
       "      <th>25p</th>\n",
       "      <td>34015.48</td>\n",
       "    </tr>\n",
       "    <tr>\n",
       "      <th>50p</th>\n",
       "      <td>70308.21</td>\n",
       "    </tr>\n",
       "    <tr>\n",
       "      <th>75p</th>\n",
       "      <td>107735.51</td>\n",
       "    </tr>\n",
       "  </tbody>\n",
       "</table>\n",
       "</div>"
      ],
      "text/plain": [
       "        Prevailing Wage\n",
       "Count          25480.00\n",
       "Min                2.14\n",
       "Max           319210.27\n",
       "Mean           74455.81\n",
       "Median         70308.21\n",
       "25p            34015.48\n",
       "50p            70308.21\n",
       "75p           107735.51"
      ]
     },
     "execution_count": 73,
     "metadata": {},
     "output_type": "execute_result"
    }
   ],
   "source": [
    "data=visa_df['prevailing_wage']\n",
    "count=len(data)\n",
    "minn=round(np.min(data),2)\n",
    "maxx=round(np.max(data),2)\n",
    "mean=round(np.mean(data),2)\n",
    "median=round(np.median(data),2)\n",
    "p_25=round(np.percentile(data,25),2)\n",
    "p_50=round(np.percentile(data,50),2)\n",
    "p_75=round(np.percentile(data,75),2)\n",
    "index=['Count','Min','Max','Mean','Median','25p','50p','75p']\n",
    "values=[count,minn,maxx,mean,median,p_25,p_50,p_75]\n",
    "pd.DataFrame(values,index,columns=['Prevailing Wage'])\n"
   ]
  },
  {
   "cell_type": "code",
   "execution_count": 61,
   "id": "17d43fc1-0e84-44fc-a22b-fb1ea6a09bc0",
   "metadata": {},
   "outputs": [
    {
     "data": {
      "text/plain": [
       "Index(['no_of_employees', 'yr_of_estab', 'prevailing_wage'], dtype='object')"
      ]
     },
     "execution_count": 61,
     "metadata": {},
     "output_type": "execute_result"
    }
   ],
   "source": [
    "num_col"
   ]
  },
  {
   "cell_type": "code",
   "execution_count": 93,
   "id": "d4481236-f51c-45a8-8b6a-6fc02bad1807",
   "metadata": {},
   "outputs": [],
   "source": [
    "index=['Count','Min','Max','Mean','Median','25p','50p','75p']\n",
    "for  i in num_col:\n",
    "    data=visa_df[i]\n",
    "    count=len(data)\n",
    "    minn=round(np.min(data),2)\n",
    "    maxx=round(np.max(data),2)\n",
    "    mean=round(np.mean(data),2)\n",
    "    median=round(np.median(data),2)\n",
    "    p_25=round(np.percentile(data,25),2)\n",
    "    p_50=round(np.percentile(data,50),2)\n",
    "    p_75=round(np.percentile(data,75),2)\n",
    "    values=[count,minn,maxx,mean,median,p_25,p_50,p_75]\n",
    "    df=pd.DataFrame(values,index=index,columns=[i])\n",
    "        "
   ]
  },
  {
   "cell_type": "code",
   "execution_count": 95,
   "id": "16df6376-1a29-4f1e-be4b-0dd801f98c5f",
   "metadata": {},
   "outputs": [
    {
     "data": {
      "text/html": [
       "<div>\n",
       "<style scoped>\n",
       "    .dataframe tbody tr th:only-of-type {\n",
       "        vertical-align: middle;\n",
       "    }\n",
       "\n",
       "    .dataframe tbody tr th {\n",
       "        vertical-align: top;\n",
       "    }\n",
       "\n",
       "    .dataframe thead th {\n",
       "        text-align: right;\n",
       "    }\n",
       "</style>\n",
       "<table border=\"1\" class=\"dataframe\">\n",
       "  <thead>\n",
       "    <tr style=\"text-align: right;\">\n",
       "      <th></th>\n",
       "      <th>prevailing_wage</th>\n",
       "    </tr>\n",
       "  </thead>\n",
       "  <tbody>\n",
       "    <tr>\n",
       "      <th>Count</th>\n",
       "      <td>25480.00</td>\n",
       "    </tr>\n",
       "    <tr>\n",
       "      <th>Min</th>\n",
       "      <td>2.14</td>\n",
       "    </tr>\n",
       "    <tr>\n",
       "      <th>Max</th>\n",
       "      <td>319210.27</td>\n",
       "    </tr>\n",
       "    <tr>\n",
       "      <th>Mean</th>\n",
       "      <td>74455.81</td>\n",
       "    </tr>\n",
       "    <tr>\n",
       "      <th>Median</th>\n",
       "      <td>70308.21</td>\n",
       "    </tr>\n",
       "    <tr>\n",
       "      <th>25p</th>\n",
       "      <td>34015.48</td>\n",
       "    </tr>\n",
       "    <tr>\n",
       "      <th>50p</th>\n",
       "      <td>70308.21</td>\n",
       "    </tr>\n",
       "    <tr>\n",
       "      <th>75p</th>\n",
       "      <td>107735.51</td>\n",
       "    </tr>\n",
       "  </tbody>\n",
       "</table>\n",
       "</div>"
      ],
      "text/plain": [
       "        prevailing_wage\n",
       "Count          25480.00\n",
       "Min                2.14\n",
       "Max           319210.27\n",
       "Mean           74455.81\n",
       "Median         70308.21\n",
       "25p            34015.48\n",
       "50p            70308.21\n",
       "75p           107735.51"
      ]
     },
     "execution_count": 95,
     "metadata": {},
     "output_type": "execute_result"
    }
   ],
   "source": [
    "df # only last DF is coming \n",
    "   # DF is overwriting past DF\n",
    "   #so we will create empty DF and add data to existing DF"
   ]
  },
  {
   "cell_type": "code",
   "execution_count": 97,
   "id": "a227c834-8231-4468-af9f-b4d088d7b64f",
   "metadata": {},
   "outputs": [],
   "source": [
    "df=pd.DataFrame()\n",
    "index=['Count','Min','Max','Mean','Median','25p','50p','75p']\n",
    "for  i in num_col:\n",
    "    data=visa_df[i]\n",
    "    count=len(data)\n",
    "    minn=round(np.min(data),2)\n",
    "    maxx=round(np.max(data),2)\n",
    "    mean=round(np.mean(data),2)\n",
    "    median=round(np.median(data),2)\n",
    "    p_25=round(np.percentile(data,25),2)\n",
    "    p_50=round(np.percentile(data,50),2)\n",
    "    p_75=round(np.percentile(data,75),2)\n",
    "    values=[count,minn,maxx,mean,median,p_25,p_50,p_75]\n",
    "    df[i]=values\n",
    "    df.index=index\n",
    "        "
   ]
  },
  {
   "cell_type": "code",
   "execution_count": 99,
   "id": "c93f63a8-4028-4f5a-8876-277083632184",
   "metadata": {},
   "outputs": [
    {
     "data": {
      "text/html": [
       "<div>\n",
       "<style scoped>\n",
       "    .dataframe tbody tr th:only-of-type {\n",
       "        vertical-align: middle;\n",
       "    }\n",
       "\n",
       "    .dataframe tbody tr th {\n",
       "        vertical-align: top;\n",
       "    }\n",
       "\n",
       "    .dataframe thead th {\n",
       "        text-align: right;\n",
       "    }\n",
       "</style>\n",
       "<table border=\"1\" class=\"dataframe\">\n",
       "  <thead>\n",
       "    <tr style=\"text-align: right;\">\n",
       "      <th></th>\n",
       "      <th>no_of_employees</th>\n",
       "      <th>yr_of_estab</th>\n",
       "      <th>prevailing_wage</th>\n",
       "    </tr>\n",
       "  </thead>\n",
       "  <tbody>\n",
       "    <tr>\n",
       "      <th>Count</th>\n",
       "      <td>25480.00</td>\n",
       "      <td>25480.00</td>\n",
       "      <td>25480.00</td>\n",
       "    </tr>\n",
       "    <tr>\n",
       "      <th>Min</th>\n",
       "      <td>-26.00</td>\n",
       "      <td>1800.00</td>\n",
       "      <td>2.14</td>\n",
       "    </tr>\n",
       "    <tr>\n",
       "      <th>Max</th>\n",
       "      <td>602069.00</td>\n",
       "      <td>2016.00</td>\n",
       "      <td>319210.27</td>\n",
       "    </tr>\n",
       "    <tr>\n",
       "      <th>Mean</th>\n",
       "      <td>5667.04</td>\n",
       "      <td>1979.41</td>\n",
       "      <td>74455.81</td>\n",
       "    </tr>\n",
       "    <tr>\n",
       "      <th>Median</th>\n",
       "      <td>2109.00</td>\n",
       "      <td>1997.00</td>\n",
       "      <td>70308.21</td>\n",
       "    </tr>\n",
       "    <tr>\n",
       "      <th>25p</th>\n",
       "      <td>1022.00</td>\n",
       "      <td>1976.00</td>\n",
       "      <td>34015.48</td>\n",
       "    </tr>\n",
       "    <tr>\n",
       "      <th>50p</th>\n",
       "      <td>2109.00</td>\n",
       "      <td>1997.00</td>\n",
       "      <td>70308.21</td>\n",
       "    </tr>\n",
       "    <tr>\n",
       "      <th>75p</th>\n",
       "      <td>3504.00</td>\n",
       "      <td>2005.00</td>\n",
       "      <td>107735.51</td>\n",
       "    </tr>\n",
       "  </tbody>\n",
       "</table>\n",
       "</div>"
      ],
      "text/plain": [
       "        no_of_employees  yr_of_estab  prevailing_wage\n",
       "Count          25480.00     25480.00         25480.00\n",
       "Min              -26.00      1800.00             2.14\n",
       "Max           602069.00      2016.00        319210.27\n",
       "Mean            5667.04      1979.41         74455.81\n",
       "Median          2109.00      1997.00         70308.21\n",
       "25p             1022.00      1976.00         34015.48\n",
       "50p             2109.00      1997.00         70308.21\n",
       "75p             3504.00      2005.00        107735.51"
      ]
     },
     "execution_count": 99,
     "metadata": {},
     "output_type": "execute_result"
    }
   ],
   "source": [
    "df"
   ]
  },
  {
   "cell_type": "markdown",
   "id": "2fa4bffc-7d42-4b92-82bf-862fc4d2598b",
   "metadata": {},
   "source": [
    "**Describe Method**"
   ]
  },
  {
   "cell_type": "code",
   "execution_count": 104,
   "id": "cfd10999-d94f-41c8-9e95-9b8ef955da29",
   "metadata": {},
   "outputs": [
    {
     "data": {
      "text/html": [
       "<div>\n",
       "<style scoped>\n",
       "    .dataframe tbody tr th:only-of-type {\n",
       "        vertical-align: middle;\n",
       "    }\n",
       "\n",
       "    .dataframe tbody tr th {\n",
       "        vertical-align: top;\n",
       "    }\n",
       "\n",
       "    .dataframe thead th {\n",
       "        text-align: right;\n",
       "    }\n",
       "</style>\n",
       "<table border=\"1\" class=\"dataframe\">\n",
       "  <thead>\n",
       "    <tr style=\"text-align: right;\">\n",
       "      <th></th>\n",
       "      <th>no_of_employees</th>\n",
       "      <th>yr_of_estab</th>\n",
       "      <th>prevailing_wage</th>\n",
       "    </tr>\n",
       "  </thead>\n",
       "  <tbody>\n",
       "    <tr>\n",
       "      <th>count</th>\n",
       "      <td>25480.000000</td>\n",
       "      <td>25480.000000</td>\n",
       "      <td>25480.000000</td>\n",
       "    </tr>\n",
       "    <tr>\n",
       "      <th>mean</th>\n",
       "      <td>5667.043210</td>\n",
       "      <td>1979.409929</td>\n",
       "      <td>74455.814592</td>\n",
       "    </tr>\n",
       "    <tr>\n",
       "      <th>std</th>\n",
       "      <td>22877.928848</td>\n",
       "      <td>42.366929</td>\n",
       "      <td>52815.942327</td>\n",
       "    </tr>\n",
       "    <tr>\n",
       "      <th>min</th>\n",
       "      <td>-26.000000</td>\n",
       "      <td>1800.000000</td>\n",
       "      <td>2.136700</td>\n",
       "    </tr>\n",
       "    <tr>\n",
       "      <th>25%</th>\n",
       "      <td>1022.000000</td>\n",
       "      <td>1976.000000</td>\n",
       "      <td>34015.480000</td>\n",
       "    </tr>\n",
       "    <tr>\n",
       "      <th>50%</th>\n",
       "      <td>2109.000000</td>\n",
       "      <td>1997.000000</td>\n",
       "      <td>70308.210000</td>\n",
       "    </tr>\n",
       "    <tr>\n",
       "      <th>75%</th>\n",
       "      <td>3504.000000</td>\n",
       "      <td>2005.000000</td>\n",
       "      <td>107735.512500</td>\n",
       "    </tr>\n",
       "    <tr>\n",
       "      <th>max</th>\n",
       "      <td>602069.000000</td>\n",
       "      <td>2016.000000</td>\n",
       "      <td>319210.270000</td>\n",
       "    </tr>\n",
       "  </tbody>\n",
       "</table>\n",
       "</div>"
      ],
      "text/plain": [
       "       no_of_employees   yr_of_estab  prevailing_wage\n",
       "count     25480.000000  25480.000000     25480.000000\n",
       "mean       5667.043210   1979.409929     74455.814592\n",
       "std       22877.928848     42.366929     52815.942327\n",
       "min         -26.000000   1800.000000         2.136700\n",
       "25%        1022.000000   1976.000000     34015.480000\n",
       "50%        2109.000000   1997.000000     70308.210000\n",
       "75%        3504.000000   2005.000000    107735.512500\n",
       "max      602069.000000   2016.000000    319210.270000"
      ]
     },
     "execution_count": 104,
     "metadata": {},
     "output_type": "execute_result"
    }
   ],
   "source": [
    "visa_df.describe()"
   ]
  },
  {
   "cell_type": "markdown",
   "id": "eb4569f1-52d6-4437-b487-0522454e84c8",
   "metadata": {},
   "source": [
    "**percentile**\n",
    "\n",
    "- 25 percentage of data less than 34015.47\n",
    "\n",
    "- 25 percentage data =25*25480/100=6370\n",
    "\n",
    "- 6370 members has salary less than 34015.47"
   ]
  },
  {
   "cell_type": "code",
   "execution_count": 112,
   "id": "1e8bea2d-42a6-4d3f-9146-cee5b4121074",
   "metadata": {},
   "outputs": [
    {
     "data": {
      "text/plain": [
       "34015.479999999996"
      ]
     },
     "execution_count": 112,
     "metadata": {},
     "output_type": "execute_result"
    }
   ],
   "source": [
    "wage_data=visa_df['prevailing_wage']\n",
    "p_25=np.percentile(wage_data,25)\n",
    "p_25"
   ]
  },
  {
   "cell_type": "code",
   "execution_count": 122,
   "id": "a3036fb8-dff9-40ab-950f-34967cd554d6",
   "metadata": {},
   "outputs": [
    {
     "data": {
      "text/plain": [
       "6370"
      ]
     },
     "execution_count": 122,
     "metadata": {},
     "output_type": "execute_result"
    }
   ],
   "source": [
    "con=wage_data<p_25\n",
    "len(visa_df[con]) # 6370 rows came"
   ]
  },
  {
   "cell_type": "markdown",
   "id": "fe0b6568-7786-417d-9d9d-1a03bc89998c",
   "metadata": {},
   "source": [
    "**Emperical Rule**"
   ]
  },
  {
   "cell_type": "markdown",
   "id": "42a31c7a-652e-4972-8299-f181b9a6ca51",
   "metadata": {},
   "source": [
    "u-1sigma to u+1sigma how much data 68p"
   ]
  },
  {
   "cell_type": "code",
   "execution_count": null,
   "id": "669a4529-9876-4960-81e7-760f931907df",
   "metadata": {},
   "outputs": [],
   "source": [
    "# step-1: u=calculate mean of wage data\n",
    "# step-2: sd=calculate sd of wage data\n",
    "# step-3: lb=u-1*sd\n",
    "# step-4: ub=u+1*sd\n",
    "# step-5: con1=wage data > lb\n",
    "# step-6: con2=wage data < ub\n",
    "# step-7: con = con1 and con 2\n",
    "# step-8: len(visa_df[con])\n",
    "# step-9: 68*25480/100 == len(visa_df[con])"
   ]
  },
  {
   "cell_type": "code",
   "execution_count": 136,
   "id": "bd20d0d4-b13e-43fc-b02d-ac4163aebd83",
   "metadata": {},
   "outputs": [
    {
     "data": {
      "text/plain": [
       "False"
      ]
     },
     "execution_count": 136,
     "metadata": {},
     "output_type": "execute_result"
    }
   ],
   "source": [
    "wage_data=visa_df['prevailing_wage']\n",
    "u=np.mean(wage_data)\n",
    "sd=np.std(wage_data)\n",
    "lb=u-1*sd\n",
    "ub=u+1*sd\n",
    "con1=wage_data>lb\n",
    "con2=wage_data<ub\n",
    "con=con1 & con2\n",
    "rows=len(visa_df[con])\n",
    "rows==68*25480/100 # it is not following Emperical rule"
   ]
  },
  {
   "cell_type": "code",
   "execution_count": 140,
   "id": "5410718b-ba0e-409d-8050-b0d64e063d1b",
   "metadata": {},
   "outputs": [
    {
     "data": {
      "text/plain": [
       "17326.4"
      ]
     },
     "execution_count": 140,
     "metadata": {},
     "output_type": "execute_result"
    }
   ],
   "source": [
    "68*25480/100 # 68p==> 68 percentage of people has salary less than 17326.6"
   ]
  },
  {
   "cell_type": "code",
   "execution_count": 7,
   "id": "b417d0be-38b5-4cb7-a300-03009a726a90",
   "metadata": {},
   "outputs": [
    {
     "data": {
      "text/plain": [
       "False"
      ]
     },
     "execution_count": 7,
     "metadata": {},
     "output_type": "execute_result"
    }
   ],
   "source": [
    "wage_data=visa_df['prevailing_wage']\n",
    "u=np.mean(wage_data)\n",
    "sd=np.std(wage_data)\n",
    "lb=u-2*sd\n",
    "ub=u+2*sd\n",
    "con1=wage_data>lb\n",
    "con2=wage_data<ub\n",
    "con=con1 & con2\n",
    "rows=len(visa_df[con])\n",
    "rows==95*25480/100 # it is not following Emperical rule"
   ]
  },
  {
   "cell_type": "code",
   "execution_count": 9,
   "id": "b172d699-ae96-4f6f-bf42-c7d62430b9e6",
   "metadata": {},
   "outputs": [
    {
     "name": "stdout",
     "output_type": "stream",
     "text": [
      "30\n"
     ]
    }
   ],
   "source": [
    "a=10\n",
    "b=20\n",
    "c=a+b\n",
    "print(c)"
   ]
  },
  {
   "cell_type": "code",
   "execution_count": null,
   "id": "22f3abcd-e174-4604-a4e0-b68902815618",
   "metadata": {},
   "outputs": [],
   "source": []
  }
 ],
 "metadata": {
  "kernelspec": {
   "display_name": "Python [conda env:base] *",
   "language": "python",
   "name": "conda-base-py"
  },
  "language_info": {
   "codemirror_mode": {
    "name": "ipython",
    "version": 3
   },
   "file_extension": ".py",
   "mimetype": "text/x-python",
   "name": "python",
   "nbconvert_exporter": "python",
   "pygments_lexer": "ipython3",
   "version": "3.12.7"
  }
 },
 "nbformat": 4,
 "nbformat_minor": 5
}
